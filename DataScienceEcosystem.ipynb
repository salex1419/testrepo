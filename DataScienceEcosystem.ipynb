{
 "cells": [
  {
   "cell_type": "markdown",
   "id": "b10ecf34",
   "metadata": {},
   "source": [
    "# Data Science Tools and Ecosystem"
   ]
  },
  {
   "cell_type": "markdown",
   "id": "8a28731f",
   "metadata": {},
   "source": [
    "In this notebook, Data Science Tools and Ecosystem are summarized.\n",
    "\n"
   ]
  },
  {
   "cell_type": "markdown",
   "id": "df66f729",
   "metadata": {},
   "source": [
    "**Objectives:**\n",
    "- List popular languages for Data Science\n",
    "- Create tables\n",
    "- Evaluate simple code"
   ]
  },
  {
   "cell_type": "markdown",
   "id": "5005fb52",
   "metadata": {},
   "source": [
    "## Author\n",
    "Dennis A. Silva Cullishpuma"
   ]
  },
  {
   "cell_type": "markdown",
   "id": "9b05926c",
   "metadata": {},
   "source": [
    "Some of the popular languages that Data Scientists use are:\n",
    "1. Python\n",
    "2. R\n",
    "3. C+"
   ]
  },
  {
   "cell_type": "markdown",
   "id": "6519672e",
   "metadata": {},
   "source": [
    "Some of the commonly used libraries used by Data Scientists include:\n",
    "1. NumPy\n",
    "2. Pandas\n",
    "3. Scikit-learn\n"
   ]
  },
  {
   "cell_type": "markdown",
   "id": "8c3d01fb",
   "metadata": {},
   "source": [
    "| Data Science Tools |\n",
    "| ------ |\n",
    "| Jupyter Notebook |\n",
    "| RStudio |\n",
    "| Apache Spark |"
   ]
  },
  {
   "cell_type": "markdown",
   "id": "c6ca12af",
   "metadata": {},
   "source": [
    "### Below are a few examples of evaluating arithmetic expressions in Python.\n",
    "\n",
    " $$\n",
    " c = a + b\n",
    " $$\n",
    " $$\n",
    " c = a -b \n",
    " $$"
   ]
  },
  {
   "cell_type": "markdown",
   "id": "c38ed9f1",
   "metadata": {},
   "source": [
    "This a simple arithmetic expression to mutiply then add integers: In this code cell evaluate the expression (3*4)+5."
   ]
  },
  {
   "cell_type": "code",
   "execution_count": 1,
   "id": "a2335b9c",
   "metadata": {},
   "outputs": [
    {
     "name": "stdout",
     "output_type": "stream",
     "text": [
      "17\n"
     ]
    }
   ],
   "source": [
    "c = (3*4)+5\n",
    "print(c)"
   ]
  },
  {
   "cell_type": "markdown",
   "id": "17a377f6",
   "metadata": {},
   "source": [
    "In this code cell write an expression that converts 200 minutes into hours."
   ]
  },
  {
   "cell_type": "code",
   "execution_count": 3,
   "id": "c62539a3",
   "metadata": {},
   "outputs": [
    {
     "data": {
      "text/plain": [
       "3.3333333333333335"
      ]
     },
     "execution_count": 3,
     "metadata": {},
     "output_type": "execute_result"
    }
   ],
   "source": [
    "# This will convert 200 minutes to hours by diving by 60\n",
    "min = 200\n",
    "hours = min / 60\n",
    "hours"
   ]
  },
  {
   "cell_type": "code",
   "execution_count": null,
   "id": "00f029de",
   "metadata": {},
   "outputs": [],
   "source": []
  }
 ],
 "metadata": {
  "kernelspec": {
   "display_name": "Python 3",
   "language": "python",
   "name": "python3"
  },
  "language_info": {
   "codemirror_mode": {
    "name": "ipython",
    "version": 3
   },
   "file_extension": ".py",
   "mimetype": "text/x-python",
   "name": "python",
   "nbconvert_exporter": "python",
   "pygments_lexer": "ipython3",
   "version": "3.13.3"
  }
 },
 "nbformat": 4,
 "nbformat_minor": 5
}
